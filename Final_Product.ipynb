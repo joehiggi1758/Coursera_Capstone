{
 "cells": [
  {
   "cell_type": "markdown",
   "metadata": {},
   "source": [
    "# Marketing Effectively in Michigan post Pandemic"
   ]
  },
  {
   "cell_type": "markdown",
   "metadata": {},
   "source": [
    "### Problem Statement"
   ]
  },
  {
   "attachments": {},
   "cell_type": "markdown",
   "metadata": {},
   "source": [
    "According to the Michigan Bureau of Labor Market Information's Occupational Employment Statistics report for 2018 - Sales, Advertising and Marketing positions account for 1,176,030 jobs within the state. Due to the current statewide shelter in place order, many of these positions are stagnant and not performing. In order to help these positions focus thier efforts once the statewide shelter in place order is lifted, I plan to cluster neighborhood data within Michigan by population and yearly GDP. \n",
    "\n",
    "The true stakeholders to this report would be any associate in a business to consumer sales role. My goal with this report is to quite literally deliver a map of where to market next (post pandemic) to receive the highest ROI for your efforts. "
   ]
  },
  {
   "cell_type": "markdown",
   "metadata": {},
   "source": [
    "### Data to be Used"
   ]
  },
  {
   "cell_type": "markdown",
   "metadata": {},
   "source": [
    "I will be using two separate datasets, one from Michigan's publicly available market data, and the second dataset will be from Foursquare containing location data on the neighborhoods within the state. "
   ]
  }
 ],
 "metadata": {
  "kernelspec": {
   "display_name": "Python 3",
   "language": "python",
   "name": "python3"
  },
  "language_info": {
   "codemirror_mode": {
    "name": "ipython",
    "version": 3
   },
   "file_extension": ".py",
   "mimetype": "text/x-python",
   "name": "python",
   "nbconvert_exporter": "python",
   "pygments_lexer": "ipython3",
   "version": "3.7.6"
  }
 },
 "nbformat": 4,
 "nbformat_minor": 4
}
